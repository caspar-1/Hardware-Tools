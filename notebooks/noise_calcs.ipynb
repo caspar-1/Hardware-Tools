{
 "cells": [
  {
   "cell_type": "code",
   "execution_count": 1,
   "metadata": {},
   "outputs": [
    {
     "name": "stdout",
     "output_type": "stream",
     "text": [
      "-173.82795613590073\n"
     ]
    }
   ],
   "source": [
    "import hardware_tools.noise_calcs as N\n",
    "\n",
    "R=50\n",
    "T=300\n",
    "B=1\n",
    "vn=N.noise_voltage(R,T,B)\n",
    "\n",
    "P=N.noise_power_dbm(T,B)\n",
    "\n",
    "\n",
    "print(\"{}\".format(P))"
   ]
  }
 ],
 "metadata": {
  "interpreter": {
   "hash": "e7370f93d1d0cde622a1f8e1c04877d8463912d04d973331ad4851f04de6915a"
  },
  "kernelspec": {
   "display_name": "Python 3.9.7 64-bit",
   "language": "python",
   "name": "python3"
  },
  "language_info": {
   "codemirror_mode": {
    "name": "ipython",
    "version": 3
   },
   "file_extension": ".py",
   "mimetype": "text/x-python",
   "name": "python",
   "nbconvert_exporter": "python",
   "pygments_lexer": "ipython3",
   "version": "3.9.7"
  },
  "orig_nbformat": 4
 },
 "nbformat": 4,
 "nbformat_minor": 2
}
