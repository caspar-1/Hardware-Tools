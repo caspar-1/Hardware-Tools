{
 "cells": [
  {
   "cell_type": "markdown",
   "metadata": {},
   "source": [
    "# LINK Budgets\n",
    "\n",
    "# energy per bit\n",
    "\n",
    "$ E_b = \\frac{P_r}{R}$\n",
    "\n",
    "$P_r$ received power in watts\n",
    "\n",
    "$R$ bit rate, bits per second[bps]\n",
    "\n",
    "----\n",
    "# Spectral noise density\n",
    "$ N_o = kT_s $  [W/Hz]\n",
    "\n",
    "----\n",
    "# signal to noise ratio\n",
    "$ SNR =\\frac{E_b}{N_o} $\n",
    "\n",
    "----\n",
    "# system noise temperature\n",
    "$T_s = T_{ant}+T_r$\n",
    "\n",
    "$T_ant$ Antennaa noise temperature\n",
    "\n",
    "$T_r =\\frac{T_O}{L_r}(F-L_r)$\n",
    "\n",
    "$T_O$ Reference temperature 290K\n",
    "\n",
    "$L_r$ line and connector losses from amp to receiver\n",
    "\n",
    "$F$ amplifier noise figure\n",
    "\n",
    "----\n",
    "# power at Receiver\n",
    "$P_r =\\frac{P_t*G_t8G_r}{L_p}$\n",
    "\n",
    "$P_r, P_t$ expressed in watts\n",
    "\n",
    "$G_t, G_r$ transmitter and reciever antenna gains\n",
    "\n",
    "----\n",
    "# propagation path loss\n",
    "$L_p =\\left(frac{4.\\pi.df}{c}\\right) ^ 2$\n",
    "\n",
    "----\n",
    "# Link Budget equation\n",
    "$SNR =\\frac{E_b}{N_o} =\\frac{P_t G_t G_r}{k T_s R L_p}$\n",
    "\n",
    "$SNR_{db} = 10 log_{10}\\left(\\frac{E_b}{N_o}\\right)$\n",
    "\n",
    "$SNR_{db} = 10 log_{10}\\left(\\frac{P_t G_t G_r}{k T_s R L_p}\\right)$\n",
    "\n",
    "$SNR_{db} = P_{t, dbm}-30+G_{t, dbi}+G_{r, dbi}-L_{p, db}-10log_{10}k-10log_{10}t_s-10log_{10}R$\n"
   ]
  }
 ],
 "metadata": {
  "interpreter": {
   "hash": "e7370f93d1d0cde622a1f8e1c04877d8463912d04d973331ad4851f04de6915a"
  },
  "kernelspec": {
   "display_name": "Python 3.9.7 64-bit",
   "name": "python3"
  },
  "language_info": {
   "codemirror_mode": {
    "name": "ipython",
    "version": 3
   },
   "file_extension": ".py",
   "mimetype": "text/x-python",
   "name": "python",
   "nbconvert_exporter": "python",
   "pygments_lexer": "ipython3",
   "version": "3.9.7"
  },
  "orig_nbformat": 4
 },
 "nbformat": 4,
 "nbformat_minor": 2
}
